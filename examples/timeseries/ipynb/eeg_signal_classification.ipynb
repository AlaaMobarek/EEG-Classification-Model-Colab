{
  "cells": [
    {
      "cell_type": "markdown",
      "metadata": {
        "id": "view-in-github",
        "colab_type": "text"
      },
      "source": [
        "<a href=\"https://colab.research.google.com/github/AlaaMobarek/EEG-Classification-Model-Colab/blob/main/examples/timeseries/ipynb/eeg_signal_classification.ipynb\" target=\"_parent\"><img src=\"https://colab.research.google.com/assets/colab-badge.svg\" alt=\"Open In Colab\"/></a>"
      ]
    },
    {
      "cell_type": "markdown",
      "metadata": {
        "id": "dM-_T8KjAgoO"
      },
      "source": [
        "# Electroencephalogram Signal Classification for action identification\n",
        "\n",
        "**Author:** [Suvaditya Mukherjee](https://github.com/suvadityamuk)<br>\n",
        "**Date created:** 2022/11/03<br>\n",
        "**Last modified:** 2022/11/05<br>\n",
        "**Description:** Training a Convolutional model to classify EEG signals produced by exposure to certain stimuli."
      ]
    },
    {
      "cell_type": "markdown",
      "metadata": {
        "id": "N0oVVuDMAgoR"
      },
      "source": [
        "## Introduction\n",
        "\n",
        "The following example explores how we can make a Convolution-based Neural Network to\n",
        "perform classification on Electroencephalogram signals captured when subjects were\n",
        "exposed to different stimuli.\n",
        "We train a model from scratch since such signal-classification models are fairly scarce\n",
        "in pre-trained format.\n",
        "The data we use is sourced from the UC Berkeley-Biosense Lab where the data was collected\n",
        "from 15 subjects at the same time.\n",
        "Our process is as follows:\n",
        "\n",
        "- Load the [UC Berkeley-Biosense Synchronized Brainwave Dataset](https://www.kaggle.com/datasets/berkeley-biosense/synchronized-brainwave-dataset)\n",
        "- Visualize random samples from the data\n",
        "- Pre-process, collate and scale the data to finally make a `tf.data.Dataset`\n",
        "- Prepare class weights in order to tackle major imbalances\n",
        "- Create a Conv1D and Dense-based model to perform classification\n",
        "- Define callbacks and hyperparameters\n",
        "- Train the model\n",
        "- Plot metrics from History and perform evaluation\n",
        "\n",
        "This example needs the following external dependencies (Gdown, Scikit-learn, Pandas,\n",
        "Numpy, Matplotlib). You can install it via the following commands.\n",
        "\n",
        "Gdown is an external package used to download large files from Google Drive. To know\n",
        "more, you can refer to its [PyPi page here](https://pypi.org/project/gdown)"
      ]
    },
    {
      "cell_type": "markdown",
      "metadata": {
        "id": "OEE1HWYcAgoS"
      },
      "source": [
        "## Setup and Data Downloads\n",
        "\n",
        "First, lets install our dependencies:"
      ]
    },
    {
      "cell_type": "code",
      "execution_count": 2,
      "metadata": {
        "id": "deibtX2MAgoS",
        "outputId": "b98716d2-ab8e-4a90-cf6a-4997e6230a8b",
        "colab": {
          "base_uri": "https://localhost:8080/"
        }
      },
      "outputs": [
        {
          "output_type": "stream",
          "name": "stdout",
          "text": [
            "  \u001b[1;31merror\u001b[0m: \u001b[1msubprocess-exited-with-error\u001b[0m\n",
            "  \n",
            "  \u001b[31m×\u001b[0m \u001b[32mpython setup.py egg_info\u001b[0m did not run successfully.\n",
            "  \u001b[31m│\u001b[0m exit code: \u001b[1;36m1\u001b[0m\n",
            "  \u001b[31m╰─>\u001b[0m See above for output.\n",
            "  \n",
            "  \u001b[1;35mnote\u001b[0m: This error originates from a subprocess, and is likely not a problem with pip.\n",
            "  Preparing metadata (setup.py) ... \u001b[?25l\u001b[?25herror\n",
            "\u001b[1;31merror\u001b[0m: \u001b[1mmetadata-generation-failed\u001b[0m\n",
            "\n",
            "\u001b[31m×\u001b[0m Encountered error while generating package metadata.\n",
            "\u001b[31m╰─>\u001b[0m See above for output.\n",
            "\n",
            "\u001b[1;35mnote\u001b[0m: This is an issue with the package mentioned above, not pip.\n",
            "\u001b[1;36mhint\u001b[0m: See above for details.\n"
          ]
        }
      ],
      "source": [
        "!pip install gdown -q\n",
        "!pip install sklearn -q\n",
        "!pip install pandas -q\n",
        "!pip install numpy -q\n",
        "!pip install matplotlib -q"
      ]
    },
    {
      "cell_type": "markdown",
      "metadata": {
        "id": "GYu12Z3KAgoU"
      },
      "source": [
        "Next, lets download our dataset.\n",
        "The gdown package makes it easy to download the data from Google Drive:"
      ]
    },
    {
      "cell_type": "code",
      "execution_count": 3,
      "metadata": {
        "id": "pjlxwRc9AgoV",
        "outputId": "eadf91bd-1ca1-490d-f136-feeb7838296d",
        "colab": {
          "base_uri": "https://localhost:8080/"
        }
      },
      "outputs": [
        {
          "output_type": "stream",
          "name": "stdout",
          "text": [
            "Downloading...\n",
            "From (original): https://drive.google.com/uc?id=1V5B7Bt6aJm0UHbR7cRKBEK8jx7lYPVuX\n",
            "From (redirected): https://drive.google.com/uc?id=1V5B7Bt6aJm0UHbR7cRKBEK8jx7lYPVuX&confirm=t&uuid=1c0ac244-f344-4818-a2bd-042fc0706a8c\n",
            "To: /content/eeg-data.csv\n",
            "100% 106M/106M [00:02<00:00, 44.1MB/s]\n"
          ]
        }
      ],
      "source": [
        "!gdown 1V5B7Bt6aJm0UHbR7cRKBEK8jx7lYPVuX\n",
        "!# gdown will download eeg-data.csv onto the local drive for use. Total size of\n",
        "!# eeg-data.csv is 105.7 MB"
      ]
    },
    {
      "cell_type": "code",
      "execution_count": 4,
      "metadata": {
        "id": "hMkwl93vAgoW"
      },
      "outputs": [],
      "source": [
        "import pandas as pd\n",
        "import matplotlib.pyplot as plt\n",
        "import json\n",
        "import numpy as np\n",
        "import keras\n",
        "from keras import layers\n",
        "import tensorflow as tf\n",
        "from sklearn import preprocessing, model_selection\n",
        "import random\n",
        "\n",
        "QUALITY_THRESHOLD = 128\n",
        "BATCH_SIZE = 64\n",
        "SHUFFLE_BUFFER_SIZE = BATCH_SIZE * 2"
      ]
    },
    {
      "cell_type": "markdown",
      "metadata": {
        "id": "oOxENA6bAgoX"
      },
      "source": [
        "## Read data from `eeg-data.csv`\n",
        "\n",
        "We use the Pandas library to read the `eeg-data.csv` file and display the first 5 rows\n",
        "using the `.head()` command"
      ]
    },
    {
      "cell_type": "code",
      "execution_count": 7,
      "metadata": {
        "id": "qitpJw5HAgoY"
      },
      "outputs": [],
      "source": [
        "eeg = pd.read_csv(\"eeg-data.csv\")"
      ]
    },
    {
      "cell_type": "markdown",
      "metadata": {
        "id": "4w4-nXSFAgoZ"
      },
      "source": [
        "We remove unlabeled samples from our dataset as they do not contribute to the model. We\n",
        "also perform a `.drop()` operation on the columns that are not required for training data\n",
        "preparation"
      ]
    },
    {
      "cell_type": "code",
      "execution_count": 8,
      "metadata": {
        "id": "c77vg1YpAgoZ",
        "outputId": "c98d988a-41e8-4fe1-9767-1f43df36bc6b",
        "colab": {
          "base_uri": "https://localhost:8080/",
          "height": 2392
        }
      },
      "outputs": [
        {
          "output_type": "execute_result",
          "data": {
            "text/plain": [
              "   id                                          eeg_power  \\\n",
              "0   7  [56887.0, 45471.0, 20074.0, 5359.0, 22594.0, 7...   \n",
              "1   5  [11626.0, 60301.0, 5805.0, 15729.0, 4448.0, 33...   \n",
              "2   1  [15777.0, 33461.0, 21385.0, 44193.0, 11741.0, ...   \n",
              "3  13  [311822.0, 44739.0, 19000.0, 19100.0, 2650.0, ...   \n",
              "4   4  [687393.0, 10289.0, 2942.0, 9874.0, 1059.0, 29...   \n",
              "\n",
              "                                          raw_values  signal_quality  \\\n",
              "0  [99.0, 96.0, 91.0, 89.0, 91.0, 89.0, 87.0, 93....               0   \n",
              "1  [23.0, 40.0, 64.0, 89.0, 86.0, 33.0, -14.0, -1...               0   \n",
              "2  [41.0, 26.0, 16.0, 20.0, 34.0, 51.0, 56.0, 55....               0   \n",
              "3  [208.0, 198.0, 122.0, 84.0, 161.0, 249.0, 216....               0   \n",
              "4  [129.0, 133.0, 114.0, 105.0, 101.0, 109.0, 99....               0   \n",
              "\n",
              "              label  \n",
              "0  blinkInstruction  \n",
              "1  blinkInstruction  \n",
              "2  blinkInstruction  \n",
              "3  blinkInstruction  \n",
              "4  blinkInstruction  "
            ],
            "text/html": [
              "\n",
              "  <div id=\"df-e9c1ed9d-eb47-42da-8e23-8620e996a799\" class=\"colab-df-container\">\n",
              "    <div>\n",
              "<style scoped>\n",
              "    .dataframe tbody tr th:only-of-type {\n",
              "        vertical-align: middle;\n",
              "    }\n",
              "\n",
              "    .dataframe tbody tr th {\n",
              "        vertical-align: top;\n",
              "    }\n",
              "\n",
              "    .dataframe thead th {\n",
              "        text-align: right;\n",
              "    }\n",
              "</style>\n",
              "<table border=\"1\" class=\"dataframe\">\n",
              "  <thead>\n",
              "    <tr style=\"text-align: right;\">\n",
              "      <th></th>\n",
              "      <th>id</th>\n",
              "      <th>eeg_power</th>\n",
              "      <th>raw_values</th>\n",
              "      <th>signal_quality</th>\n",
              "      <th>label</th>\n",
              "    </tr>\n",
              "  </thead>\n",
              "  <tbody>\n",
              "    <tr>\n",
              "      <th>0</th>\n",
              "      <td>7</td>\n",
              "      <td>[56887.0, 45471.0, 20074.0, 5359.0, 22594.0, 7...</td>\n",
              "      <td>[99.0, 96.0, 91.0, 89.0, 91.0, 89.0, 87.0, 93....</td>\n",
              "      <td>0</td>\n",
              "      <td>blinkInstruction</td>\n",
              "    </tr>\n",
              "    <tr>\n",
              "      <th>1</th>\n",
              "      <td>5</td>\n",
              "      <td>[11626.0, 60301.0, 5805.0, 15729.0, 4448.0, 33...</td>\n",
              "      <td>[23.0, 40.0, 64.0, 89.0, 86.0, 33.0, -14.0, -1...</td>\n",
              "      <td>0</td>\n",
              "      <td>blinkInstruction</td>\n",
              "    </tr>\n",
              "    <tr>\n",
              "      <th>2</th>\n",
              "      <td>1</td>\n",
              "      <td>[15777.0, 33461.0, 21385.0, 44193.0, 11741.0, ...</td>\n",
              "      <td>[41.0, 26.0, 16.0, 20.0, 34.0, 51.0, 56.0, 55....</td>\n",
              "      <td>0</td>\n",
              "      <td>blinkInstruction</td>\n",
              "    </tr>\n",
              "    <tr>\n",
              "      <th>3</th>\n",
              "      <td>13</td>\n",
              "      <td>[311822.0, 44739.0, 19000.0, 19100.0, 2650.0, ...</td>\n",
              "      <td>[208.0, 198.0, 122.0, 84.0, 161.0, 249.0, 216....</td>\n",
              "      <td>0</td>\n",
              "      <td>blinkInstruction</td>\n",
              "    </tr>\n",
              "    <tr>\n",
              "      <th>4</th>\n",
              "      <td>4</td>\n",
              "      <td>[687393.0, 10289.0, 2942.0, 9874.0, 1059.0, 29...</td>\n",
              "      <td>[129.0, 133.0, 114.0, 105.0, 101.0, 109.0, 99....</td>\n",
              "      <td>0</td>\n",
              "      <td>blinkInstruction</td>\n",
              "    </tr>\n",
              "  </tbody>\n",
              "</table>\n",
              "</div>\n",
              "    <div class=\"colab-df-buttons\">\n",
              "\n",
              "  <div class=\"colab-df-container\">\n",
              "    <button class=\"colab-df-convert\" onclick=\"convertToInteractive('df-e9c1ed9d-eb47-42da-8e23-8620e996a799')\"\n",
              "            title=\"Convert this dataframe to an interactive table.\"\n",
              "            style=\"display:none;\">\n",
              "\n",
              "  <svg xmlns=\"http://www.w3.org/2000/svg\" height=\"24px\" viewBox=\"0 -960 960 960\">\n",
              "    <path d=\"M120-120v-720h720v720H120Zm60-500h600v-160H180v160Zm220 220h160v-160H400v160Zm0 220h160v-160H400v160ZM180-400h160v-160H180v160Zm440 0h160v-160H620v160ZM180-180h160v-160H180v160Zm440 0h160v-160H620v160Z\"/>\n",
              "  </svg>\n",
              "    </button>\n",
              "\n",
              "  <style>\n",
              "    .colab-df-container {\n",
              "      display:flex;\n",
              "      gap: 12px;\n",
              "    }\n",
              "\n",
              "    .colab-df-convert {\n",
              "      background-color: #E8F0FE;\n",
              "      border: none;\n",
              "      border-radius: 50%;\n",
              "      cursor: pointer;\n",
              "      display: none;\n",
              "      fill: #1967D2;\n",
              "      height: 32px;\n",
              "      padding: 0 0 0 0;\n",
              "      width: 32px;\n",
              "    }\n",
              "\n",
              "    .colab-df-convert:hover {\n",
              "      background-color: #E2EBFA;\n",
              "      box-shadow: 0px 1px 2px rgba(60, 64, 67, 0.3), 0px 1px 3px 1px rgba(60, 64, 67, 0.15);\n",
              "      fill: #174EA6;\n",
              "    }\n",
              "\n",
              "    .colab-df-buttons div {\n",
              "      margin-bottom: 4px;\n",
              "    }\n",
              "\n",
              "    [theme=dark] .colab-df-convert {\n",
              "      background-color: #3B4455;\n",
              "      fill: #D2E3FC;\n",
              "    }\n",
              "\n",
              "    [theme=dark] .colab-df-convert:hover {\n",
              "      background-color: #434B5C;\n",
              "      box-shadow: 0px 1px 3px 1px rgba(0, 0, 0, 0.15);\n",
              "      filter: drop-shadow(0px 1px 2px rgba(0, 0, 0, 0.3));\n",
              "      fill: #FFFFFF;\n",
              "    }\n",
              "  </style>\n",
              "\n",
              "    <script>\n",
              "      const buttonEl =\n",
              "        document.querySelector('#df-e9c1ed9d-eb47-42da-8e23-8620e996a799 button.colab-df-convert');\n",
              "      buttonEl.style.display =\n",
              "        google.colab.kernel.accessAllowed ? 'block' : 'none';\n",
              "\n",
              "      async function convertToInteractive(key) {\n",
              "        const element = document.querySelector('#df-e9c1ed9d-eb47-42da-8e23-8620e996a799');\n",
              "        const dataTable =\n",
              "          await google.colab.kernel.invokeFunction('convertToInteractive',\n",
              "                                                    [key], {});\n",
              "        if (!dataTable) return;\n",
              "\n",
              "        const docLinkHtml = 'Like what you see? Visit the ' +\n",
              "          '<a target=\"_blank\" href=https://colab.research.google.com/notebooks/data_table.ipynb>data table notebook</a>'\n",
              "          + ' to learn more about interactive tables.';\n",
              "        element.innerHTML = '';\n",
              "        dataTable['output_type'] = 'display_data';\n",
              "        await google.colab.output.renderOutput(dataTable, element);\n",
              "        const docLink = document.createElement('div');\n",
              "        docLink.innerHTML = docLinkHtml;\n",
              "        element.appendChild(docLink);\n",
              "      }\n",
              "    </script>\n",
              "  </div>\n",
              "\n",
              "\n",
              "    <div id=\"df-14477e47-0d84-4517-823e-f73d941eae8d\">\n",
              "      <button class=\"colab-df-quickchart\" onclick=\"quickchart('df-14477e47-0d84-4517-823e-f73d941eae8d')\"\n",
              "                title=\"Suggest charts\"\n",
              "                style=\"display:none;\">\n",
              "\n",
              "<svg xmlns=\"http://www.w3.org/2000/svg\" height=\"24px\"viewBox=\"0 0 24 24\"\n",
              "     width=\"24px\">\n",
              "    <g>\n",
              "        <path d=\"M19 3H5c-1.1 0-2 .9-2 2v14c0 1.1.9 2 2 2h14c1.1 0 2-.9 2-2V5c0-1.1-.9-2-2-2zM9 17H7v-7h2v7zm4 0h-2V7h2v10zm4 0h-2v-4h2v4z\"/>\n",
              "    </g>\n",
              "</svg>\n",
              "      </button>\n",
              "\n",
              "<style>\n",
              "  .colab-df-quickchart {\n",
              "      --bg-color: #E8F0FE;\n",
              "      --fill-color: #1967D2;\n",
              "      --hover-bg-color: #E2EBFA;\n",
              "      --hover-fill-color: #174EA6;\n",
              "      --disabled-fill-color: #AAA;\n",
              "      --disabled-bg-color: #DDD;\n",
              "  }\n",
              "\n",
              "  [theme=dark] .colab-df-quickchart {\n",
              "      --bg-color: #3B4455;\n",
              "      --fill-color: #D2E3FC;\n",
              "      --hover-bg-color: #434B5C;\n",
              "      --hover-fill-color: #FFFFFF;\n",
              "      --disabled-bg-color: #3B4455;\n",
              "      --disabled-fill-color: #666;\n",
              "  }\n",
              "\n",
              "  .colab-df-quickchart {\n",
              "    background-color: var(--bg-color);\n",
              "    border: none;\n",
              "    border-radius: 50%;\n",
              "    cursor: pointer;\n",
              "    display: none;\n",
              "    fill: var(--fill-color);\n",
              "    height: 32px;\n",
              "    padding: 0;\n",
              "    width: 32px;\n",
              "  }\n",
              "\n",
              "  .colab-df-quickchart:hover {\n",
              "    background-color: var(--hover-bg-color);\n",
              "    box-shadow: 0 1px 2px rgba(60, 64, 67, 0.3), 0 1px 3px 1px rgba(60, 64, 67, 0.15);\n",
              "    fill: var(--button-hover-fill-color);\n",
              "  }\n",
              "\n",
              "  .colab-df-quickchart-complete:disabled,\n",
              "  .colab-df-quickchart-complete:disabled:hover {\n",
              "    background-color: var(--disabled-bg-color);\n",
              "    fill: var(--disabled-fill-color);\n",
              "    box-shadow: none;\n",
              "  }\n",
              "\n",
              "  .colab-df-spinner {\n",
              "    border: 2px solid var(--fill-color);\n",
              "    border-color: transparent;\n",
              "    border-bottom-color: var(--fill-color);\n",
              "    animation:\n",
              "      spin 1s steps(1) infinite;\n",
              "  }\n",
              "\n",
              "  @keyframes spin {\n",
              "    0% {\n",
              "      border-color: transparent;\n",
              "      border-bottom-color: var(--fill-color);\n",
              "      border-left-color: var(--fill-color);\n",
              "    }\n",
              "    20% {\n",
              "      border-color: transparent;\n",
              "      border-left-color: var(--fill-color);\n",
              "      border-top-color: var(--fill-color);\n",
              "    }\n",
              "    30% {\n",
              "      border-color: transparent;\n",
              "      border-left-color: var(--fill-color);\n",
              "      border-top-color: var(--fill-color);\n",
              "      border-right-color: var(--fill-color);\n",
              "    }\n",
              "    40% {\n",
              "      border-color: transparent;\n",
              "      border-right-color: var(--fill-color);\n",
              "      border-top-color: var(--fill-color);\n",
              "    }\n",
              "    60% {\n",
              "      border-color: transparent;\n",
              "      border-right-color: var(--fill-color);\n",
              "    }\n",
              "    80% {\n",
              "      border-color: transparent;\n",
              "      border-right-color: var(--fill-color);\n",
              "      border-bottom-color: var(--fill-color);\n",
              "    }\n",
              "    90% {\n",
              "      border-color: transparent;\n",
              "      border-bottom-color: var(--fill-color);\n",
              "    }\n",
              "  }\n",
              "</style>\n",
              "\n",
              "      <script>\n",
              "        async function quickchart(key) {\n",
              "          const quickchartButtonEl =\n",
              "            document.querySelector('#' + key + ' button');\n",
              "          quickchartButtonEl.disabled = true;  // To prevent multiple clicks.\n",
              "          quickchartButtonEl.classList.add('colab-df-spinner');\n",
              "          try {\n",
              "            const charts = await google.colab.kernel.invokeFunction(\n",
              "                'suggestCharts', [key], {});\n",
              "          } catch (error) {\n",
              "            console.error('Error during call to suggestCharts:', error);\n",
              "          }\n",
              "          quickchartButtonEl.classList.remove('colab-df-spinner');\n",
              "          quickchartButtonEl.classList.add('colab-df-quickchart-complete');\n",
              "        }\n",
              "        (() => {\n",
              "          let quickchartButtonEl =\n",
              "            document.querySelector('#df-14477e47-0d84-4517-823e-f73d941eae8d button');\n",
              "          quickchartButtonEl.style.display =\n",
              "            google.colab.kernel.accessAllowed ? 'block' : 'none';\n",
              "        })();\n",
              "      </script>\n",
              "    </div>\n",
              "\n",
              "    </div>\n",
              "  </div>\n"
            ],
            "application/vnd.google.colaboratory.intrinsic+json": {
              "type": "dataframe",
              "variable_name": "eeg",
              "summary": "{\n  \"name\": \"eeg\",\n  \"rows\": 9959,\n  \"fields\": [\n    {\n      \"column\": \"id\",\n      \"properties\": {\n        \"dtype\": \"number\",\n        \"std\": 8,\n        \"min\": 1,\n        \"max\": 30,\n        \"num_unique_values\": 30,\n        \"samples\": [\n          23,\n          29,\n          21\n        ],\n        \"semantic_type\": \"\",\n        \"description\": \"\"\n      }\n    },\n    {\n      \"column\": \"eeg_power\",\n      \"properties\": {\n        \"dtype\": \"string\",\n        \"num_unique_values\": 9568,\n        \"samples\": [\n          \"[26076.0, 32682.0, 40065.0, 91203.0, 3065.0, 8002.0, 2063.0, 1885.0]\",\n          \"[44052.0, 16306.0, 29773.0, 30670.0, 10757.0, 9799.0, 3762.0, 3126.0]\",\n          \"[765761.0, 177995.0, 40801.0, 19250.0, 22604.0, 22244.0, 6546.0, 4316.0]\"\n        ],\n        \"semantic_type\": \"\",\n        \"description\": \"\"\n      }\n    },\n    {\n      \"column\": \"raw_values\",\n      \"properties\": {\n        \"dtype\": \"string\",\n        \"num_unique_values\": 9568,\n        \"samples\": [\n          \"[38.0, 54.0, 67.0, 70.0, 51.0, 17.0, 6.0, 23.0, 51.0, 72.0, 81.0, 87.0, 91.0, 92.0, 90.0, 69.0, 54.0, 65.0, 99.0, 115.0, 98.0, 82.0, 67.0, 64.0, 58.0, 44.0, 48.0, 56.0, 58.0, 58.0, 38.0, 11.0, 5.0, 5.0, 1.0, 10.0, 37.0, 57.0, 68.0, 71.0, 66.0, 49.0, 41.0, 43.0, 41.0, 39.0, 48.0, 60.0, 67.0, 73.0, 74.0, 64.0, 68.0, 72.0, 72.0, 60.0, 64.0, 80.0, 90.0, 85.0, 73.0, 69.0, 70.0, 81.0, 82.0, 57.0, 41.0, 59.0, 90.0, 98.0, 77.0, 55.0, 52.0, 55.0, 60.0, 65.0, 55.0, 53.0, 55.0, 41.0, 20.0, 17.0, 21.0, 23.0, 3.0, -24.0, -27.0, -22.0, -18.0, -7.0, 7.0, 24.0, 38.0, 37.0, 34.0, 41.0, 54.0, 59.0, 37.0, 11.0, 25.0, 51.0, 53.0, 64.0, 76.0, 67.0, 55.0, 56.0, 57.0, 50.0, 36.0, 24.0, 28.0, 34.0, 39.0, 53.0, 65.0, 56.0, 50.0, 51.0, 56.0, 68.0, 65.0, 49.0, 53.0, 66.0, 70.0, 58.0, 39.0, 35.0, 48.0, 53.0, 44.0, 28.0, 24.0, 18.0, 7.0, 1.0, -4.0, 6.0, 50.0, 70.0, 19.0, -6.0, 23.0, 40.0, 28.0, 23.0, 11.0, 4.0, 20.0, 27.0, 27.0, 35.0, 49.0, 69.0, 80.0, 86.0, 83.0, 74.0, 90.0, 105.0, 104.0, 87.0, 75.0, 75.0, 82.0, 73.0, 57.0, 61.0, 76.0, 73.0, 53.0, 26.0, 10.0, 7.0, 9.0, 19.0, 22.0, 9.0, -1.0, -4.0, -3.0, 4.0, 5.0, -3.0, 6.0, 12.0, -3.0, -3.0, -7.0, -29.0, -52.0, -62.0, -58.0, -46.0, -52.0, -49.0, -18.0, 21.0, 36.0, 38.0, 37.0, 33.0, 21.0, 19.0, 25.0, 39.0, 59.0, 77.0, 73.0, 53.0, 53.0, 74.0, 82.0, 74.0, 50.0, 44.0, 81.0, 107.0, 114.0, 92.0, 56.0, 48.0, 65.0, 81.0, 83.0, 74.0, 67.0, 65.0, 64.0, 57.0, 51.0, 44.0, 50.0, 51.0, 32.0, 8.0, 9.0, 19.0, 18.0, 3.0, -18.0, -24.0, -18.0, -6.0, 11.0, 7.0, 2.0, 0.0, -5.0, 2.0, 12.0, 24.0, 40.0, 55.0, 55.0, 59.0, 75.0, 66.0, 39.0, 34.0, 44.0, 70.0, 76.0, 72.0, 82.0, 91.0, 98.0, 108.0, 114.0, 112.0, 109.0, 100.0, 83.0, 72.0, 71.0, 73.0, 81.0, 70.0, 45.0, 41.0, 55.0, 72.0, 75.0, 73.0, 73.0, 58.0, 37.0, 42.0, 49.0, 33.0, 10.0, -3.0, 3.0, 18.0, 10.0, 0.0, 0.0, -7.0, -13.0, -3.0, 7.0, 1.0, -11.0, -6.0, 21.0, 38.0, 37.0, 26.0, 16.0, 22.0, 58.0, 88.0, 97.0, 112.0, 104.0, 83.0, 81.0, 101.0, 125.0, 137.0, 117.0, 97.0, 105.0, 113.0, 108.0, 117.0, 128.0, 121.0, 114.0, 113.0, 117.0, 96.0, 84.0, 101.0, 104.0, 93.0, 80.0, 66.0, 70.0, 82.0, 72.0, 58.0, 55.0, 51.0, 51.0, 54.0, 52.0, 52.0, 43.0, 36.0, 48.0, 58.0, 32.0, 0.0, -1.0, 9.0, 10.0, -5.0, -11.0, -17.0, -23.0, -29.0, -36.0, -36.0, -28.0, -17.0, -1.0, 16.0, 20.0, 10.0, 7.0, -1.0, -6.0, 6.0, 37.0, 68.0, 72.0, 56.0, 64.0, 81.0, 75.0, 60.0, 55.0, 49.0, 51.0, 37.0, 16.0, 27.0, 55.0, 54.0, 48.0, 49.0, 37.0, 11.0, -9.0, -12.0, -13.0, -17.0, -20.0, -24.0, -30.0, -39.0, -38.0, -20.0, 5.0, 10.0, -10.0, -35.0, -52.0, -53.0, -13.0, 35.0, 49.0, 40.0, 25.0, 10.0, -6.0, -8.0, 32.0, 69.0, 68.0, 58.0, 54.0, 51.0, 54.0, 56.0, 54.0, 53.0, 43.0, 37.0, 50.0, 59.0, 51.0, 40.0, 40.0, 44.0, 60.0, 73.0, 69.0, 58.0, 57.0, 73.0, 85.0, 69.0, 52.0, 43.0, 52.0, 85.0, 97.0, 80.0, 70.0, 74.0, 74.0, 70.0, 54.0, 56.0, 76.0, 77.0, 72.0, 71.0, 73.0, 74.0, 66.0, 57.0, 58.0, 55.0, 54.0, 65.0, 54.0, 29.0, 23.0, 22.0, 17.0, 18.0, 21.0, 19.0, 16.0, 4.0, 0.0, 10.0, 17.0, 18.0, 24.0, 20.0, 9.0, 8.0, 16.0, 23.0, 18.0, 10.0, 13.0, 25.0, 44.0, 54.0, 36.0, 25.0, 37.0, 51.0, 67.0, 60.0, 39.0, 38.0, 55.0, 82.0, 86.0, 55.0, 24.0, 22.0, 40.0, 57.0]\",\n          \"[64.0, 57.0, 50.0, 44.0, 41.0, 21.0, -6.0, -20.0, -13.0, 0.0, 2.0, -27.0, -60.0, -55.0, -39.0, -10.0, 28.0, 49.0, 49.0, 38.0, 39.0, 50.0, 39.0, 21.0, 21.0, 27.0, 23.0, 21.0, 34.0, 64.0, 84.0, 81.0, 67.0, 68.0, 75.0, 83.0, 98.0, 104.0, 99.0, 91.0, 88.0, 66.0, 44.0, 33.0, 19.0, 18.0, 21.0, 16.0, 21.0, 36.0, 26.0, 2.0, -6.0, 7.0, 26.0, 32.0, 27.0, 28.0, 27.0, 38.0, 54.0, 53.0, 44.0, 49.0, 61.0, 61.0, 54.0, 58.0, 67.0, 73.0, 69.0, 64.0, 69.0, 69.0, 72.0, 81.0, 86.0, 89.0, 100.0, 106.0, 98.0, 83.0, 77.0, 77.0, 73.0, 60.0, 53.0, 60.0, 81.0, 89.0, 82.0, 64.0, 53.0, 49.0, 48.0, 48.0, 40.0, 39.0, 43.0, 45.0, 49.0, 45.0, 38.0, 23.0, 12.0, 8.0, 4.0, 4.0, 2.0, -4.0, -4.0, -3.0, -7.0, -17.0, -29.0, -46.0, -49.0, -22.0, 3.0, 0.0, -2.0, 5.0, 4.0, 5.0, 25.0, 34.0, 32.0, 27.0, 37.0, 51.0, 60.0, 73.0, 77.0, 76.0, 76.0, 74.0, 82.0, 102.0, 114.0, 113.0, 103.0, 105.0, 112.0, 107.0, 114.0, 116.0, 107.0, 99.0, 82.0, 67.0, 68.0, 73.0, 76.0, 72.0, 68.0, 66.0, 66.0, 90.0, 114.0, 113.0, 114.0, 124.0, 134.0, 131.0, 119.0, 99.0, 83.0, 84.0, 101.0, 116.0, 108.0, 84.0, 83.0, 112.0, 113.0, 75.0, 25.0, 9.0, 54.0, 117.0, 147.0, 122.0, 98.0, 100.0, 118.0, 132.0, 135.0, 130.0, 114.0, 109.0, 107.0, 93.0, 91.0, 98.0, 87.0, 73.0, 91.0, 106.0, 90.0, 70.0, 100.0, 154.0, 171.0, 137.0, 101.0, 83.0, 80.0, 77.0, 72.0, 71.0, 64.0, 56.0, 56.0, 49.0, 33.0, 28.0, 44.0, 57.0, 39.0, 5.0, -22.0, -38.0, -42.0, -33.0, -20.0, -33.0, -39.0, -42.0, -38.0, -18.0, 4.0, 18.0, 23.0, 25.0, 39.0, 60.0, 73.0, 70.0, 64.0, 59.0, 57.0, 39.0, 26.0, 42.0, 75.0, 84.0, 66.0, 52.0, 51.0, 56.0, 67.0, 58.0, 34.0, 12.0, 19.0, 21.0, 5.0, -10.0, -13.0, -10.0, -5.0, -10.0, -17.0, -13.0, -12.0, -12.0, -12.0, -18.0, -24.0, -26.0, -11.0, 5.0, 19.0, 22.0, 17.0, 16.0, 19.0, 18.0, 11.0, 10.0, 21.0, 35.0, 56.0, 72.0, 64.0, 49.0, 48.0, 55.0, 51.0, 32.0, 12.0, 12.0, 26.0, 36.0, 24.0, 21.0, 29.0, 32.0, 22.0, 11.0, 2.0, 9.0, 45.0, 83.0, 106.0, 119.0, 137.0, 135.0, 102.0, 81.0, 87.0, 102.0, 107.0, 98.0, 83.0, 77.0, 106.0, 132.0, 125.0, 87.0, 48.0, 33.0, 29.0, 36.0, 45.0, 52.0, 54.0, 55.0, 54.0, 49.0, 44.0, 37.0, 28.0, 37.0, 41.0, 34.0, 33.0, 29.0, 26.0, 37.0, 54.0, 64.0, 60.0, 61.0, 69.0, 75.0, 80.0, 86.0, 100.0, 99.0, 82.0, 73.0, 65.0, 51.0, 43.0, 45.0, 44.0, 41.0, 38.0, 54.0, 82.0, 100.0, 102.0, 92.0, 90.0, 96.0, 92.0, 90.0, 82.0, 70.0, 75.0, 85.0, 80.0, 68.0, 68.0, 74.0, 69.0, 65.0, 66.0, 76.0, 86.0, 72.0, 61.0, 73.0, 82.0, 59.0, 35.0, 33.0, 42.0, 41.0, 35.0, 27.0, 17.0, 4.0, 6.0, 25.0, 38.0, 35.0, 23.0, 22.0, 35.0, 36.0, 27.0, 23.0, 33.0, 54.0, 60.0, 45.0, 34.0, 34.0, 39.0, 37.0, 25.0, 7.0, -7.0, -5.0, 5.0, 11.0, 23.0, 26.0, 18.0, 23.0, 45.0, 69.0, 67.0, 51.0, 38.0, 37.0, 40.0, 41.0, 32.0, 20.0, 12.0, 26.0, 52.0, 67.0, 56.0, 39.0, 35.0, 34.0, 41.0, 51.0, 49.0, 33.0, 29.0, 48.0, 66.0, 72.0, 72.0, 64.0, 57.0, 58.0, 56.0, 53.0, 43.0, 35.0, 25.0, 16.0, 5.0, 0.0, -2.0, 2.0, 9.0, 8.0, 3.0, -8.0, -12.0, -12.0, -11.0, -11.0, 0.0, 9.0, 4.0, -2.0, -5.0, -17.0, -22.0, -9.0, 13.0, 35.0, 38.0, 29.0, 22.0, 29.0, 51.0, 80.0, 87.0, 57.0, 36.0, 49.0, 59.0, 58.0, 60.0, 76.0, 88.0, 72.0, 41.0, 39.0, 67.0, 96.0, 101.0, 105.0, 115.0, 115.0, 100.0, 86.0, 93.0, 117.0, 135.0, 136.0, 120.0, 102.0]\",\n          \"[-11.0, -34.0, -50.0, -38.0, -30.0, -39.0, -45.0, -52.0, -57.0, -56.0, -54.0, -57.0, -60.0, -57.0, -61.0, -59.0, -34.0, 4.0, 16.0, 21.0, 29.0, 39.0, 55.0, 80.0, 96.0, 89.0, 83.0, 87.0, 104.0, 138.0, 167.0, 167.0, 162.0, 148.0, 134.0, 131.0, 125.0, 106.0, 82.0, 70.0, 72.0, 83.0, 84.0, 64.0, 49.0, 40.0, 25.0, 10.0, 3.0, 7.0, 16.0, 32.0, 60.0, 76.0, 65.0, 68.0, 75.0, 58.0, 52.0, 51.0, 42.0, 28.0, 19.0, 20.0, 16.0, 4.0, 2.0, 6.0, 9.0, 21.0, 21.0, 9.0, 11.0, 26.0, 27.0, 12.0, -1.0, -1.0, 10.0, 9.0, 8.0, 25.0, 37.0, 56.0, 52.0, 17.0, -10.0, -19.0, -13.0, -7.0, 1.0, 11.0, -9.0, -40.0, -42.0, -36.0, -30.0, -30.0, -36.0, -26.0, -19.0, -34.0, -51.0, -49.0, -39.0, -37.0, -36.0, -25.0, -12.0, 6.0, 34.0, 27.0, 12.0, 17.0, 11.0, 3.0, 4.0, 16.0, 17.0, 10.0, 21.0, 35.0, 18.0, -9.0, -18.0, 0.0, 6.0, -4.0, 0.0, 10.0, 16.0, 21.0, 25.0, 23.0, 20.0, 21.0, 32.0, 48.0, 58.0, 54.0, 48.0, 44.0, 44.0, 48.0, 35.0, 5.0, -12.0, -12.0, -3.0, -1.0, 7.0, 26.0, 32.0, 10.0, 5.0, 18.0, 12.0, -4.0, -5.0, 8.0, 23.0, 32.0, 27.0, 24.0, 28.0, 43.0, 52.0, 51.0, 65.0, 74.0, 58.0, 29.0, 6.0, 1.0, -7.0, -23.0, -36.0, -35.0, -14.0, -3.0, -21.0, -25.0, -17.0, -5.0, -4.0, -17.0, -19.0, -13.0, -27.0, -46.0, -49.0, -43.0, -53.0, -70.0, -69.0, -54.0, -41.0, -37.0, -24.0, 0.0, 32.0, 81.0, 139.0, 169.0, 179.0, 177.0, 167.0, 166.0, 180.0, 182.0, 135.0, 101.0, 113.0, 132.0, 136.0, 128.0, 115.0, 108.0, 98.0, 83.0, 80.0, 88.0, 96.0, 92.0, 83.0, 72.0, 72.0, 72.0, 60.0, 43.0, 48.0, 65.0, 51.0, 19.0, 3.0, 17.0, 24.0, -5.0, -33.0, -23.0, -5.0, 5.0, -2.0, -26.0, -41.0, -30.0, -26.0, -24.0, -14.0, -28.0, -46.0, -53.0, -35.0, -11.0, -21.0, -34.0, -26.0, 4.0, 20.0, -9.0, -43.0, -56.0, -50.0, -52.0, -43.0, -25.0, -34.0, -35.0, -7.0, 17.0, 18.0, -4.0, -23.0, -38.0, -59.0, -70.0, -53.0, -26.0, -5.0, -34.0, -58.0, -39.0, -14.0, -17.0, -21.0, -8.0, 1.0, 2.0, 12.0, 34.0, 37.0, 35.0, 35.0, 29.0, 22.0, 22.0, 34.0, 58.0, 88.0, 98.0, 73.0, 54.0, 70.0, 71.0, 53.0, 56.0, 39.0, 17.0, 19.0, 32.0, 23.0, 4.0, -17.0, -23.0, -7.0, 37.0, 86.0, 98.0, 80.0, 67.0, 68.0, 65.0, 64.0, 68.0, 56.0, 40.0, 38.0, 33.0, 37.0, 56.0, 80.0, 103.0, 91.0, 54.0, 40.0, 58.0, 69.0, 66.0, 67.0, 74.0, 70.0, 53.0, 37.0, 26.0, 12.0, 1.0, 3.0, 1.0, -14.0, -21.0, -10.0, 1.0, 2.0, 4.0, 10.0, 10.0, 3.0, -5.0, -3.0, 10.0, 24.0, 19.0, -1.0, -1.0, -3.0, -12.0, -22.0, -22.0, -20.0, -20.0, -10.0, 1.0, 6.0, 25.0, 48.0, 42.0, 23.0, 22.0, 17.0, 6.0, 5.0, 3.0, -3.0, -10.0, -12.0, -20.0, -26.0, -20.0, -13.0, -10.0, -9.0, -2.0, 17.0, 32.0, 35.0, 27.0, 19.0, 26.0, 49.0, 48.0, 36.0, 40.0, 50.0, 54.0, 71.0, 74.0, 49.0, 32.0, 33.0, 35.0, 37.0, 33.0, 34.0, 39.0, 48.0, 59.0, 45.0, 27.0, 18.0, -6.0, -45.0, -77.0, -82.0, -56.0, -33.0, -20.0, -17.0, -21.0, -29.0, -40.0, -41.0, -36.0, -39.0, -69.0, -92.0, -83.0, -58.0, -54.0, -43.0, -21.0, -20.0, -29.0, -40.0, -24.0, -6.0, -14.0, -34.0, -29.0, -6.0, 9.0, 9.0, 6.0, 1.0, 6.0, 36.0, 56.0, 58.0, 43.0, 26.0, 24.0, 33.0, 39.0, 38.0, 40.0, 61.0, 73.0, 67.0, 68.0, 69.0, 66.0, 50.0, 35.0, 29.0, 44.0, 64.0, 69.0, 61.0, 55.0, 70.0, 75.0, 51.0, 10.0, -18.0, -3.0, 18.0, 26.0, 32.0, 25.0, 19.0, 25.0, 41.0, 48.0, 48.0, 52.0, 65.0, 73.0, 67.0, 56.0, 65.0, 58.0, 52.0, 43.0, 24.0, 12.0, 16.0, 22.0, 40.0, 56.0, 59.0, 71.0, 93.0, 118.0]\"\n        ],\n        \"semantic_type\": \"\",\n        \"description\": \"\"\n      }\n    },\n    {\n      \"column\": \"signal_quality\",\n      \"properties\": {\n        \"dtype\": \"number\",\n        \"std\": 5,\n        \"min\": 0,\n        \"max\": 200,\n        \"num_unique_values\": 5,\n        \"samples\": [\n          26,\n          200,\n          25\n        ],\n        \"semantic_type\": \"\",\n        \"description\": \"\"\n      }\n    },\n    {\n      \"column\": \"label\",\n      \"properties\": {\n        \"dtype\": \"category\",\n        \"num_unique_values\": 67,\n        \"samples\": [\n          \"readyRound2\",\n          \"math8\",\n          \"blink4\"\n        ],\n        \"semantic_type\": \"\",\n        \"description\": \"\"\n      }\n    }\n  ]\n}"
            }
          },
          "metadata": {},
          "execution_count": 8
        }
      ],
      "source": [
        "unlabeled_eeg = eeg[eeg[\"label\"] == \"unlabeled\"]\n",
        "eeg = eeg.loc[eeg[\"label\"] != \"unlabeled\"]\n",
        "eeg = eeg.loc[eeg[\"label\"] != \"everyone paired\"]\n",
        "\n",
        "eeg.drop(\n",
        "    [\n",
        "        \"indra_time\",\n",
        "        \"Unnamed: 0\",\n",
        "        \"browser_latency\",\n",
        "        \"reading_time\",\n",
        "        \"attention_esense\",\n",
        "        \"meditation_esense\",\n",
        "        \"updatedAt\",\n",
        "        \"createdAt\",\n",
        "    ],\n",
        "    axis=1,\n",
        "    inplace=True,\n",
        ")\n",
        "\n",
        "eeg.reset_index(drop=True, inplace=True)\n",
        "eeg.head()"
      ]
    },
    {
      "cell_type": "markdown",
      "metadata": {
        "id": "CsutWc_0Agoa"
      },
      "source": [
        "In the data, the samples recorded are given a score from 0 to 128 based on how\n",
        "well-calibrated the sensor was (0 being best, 200 being worst). We filter the values\n",
        "based on an arbitrary cutoff limit of 128."
      ]
    },
    {
      "cell_type": "code",
      "execution_count": null,
      "metadata": {
        "id": "W0_gHGNBAgoa"
      },
      "outputs": [],
      "source": [
        "\n",
        "def convert_string_data_to_values(value_string):\n",
        "    str_list = json.loads(value_string)\n",
        "    return str_list\n",
        "\n",
        "\n",
        "eeg[\"raw_values\"] = eeg[\"raw_values\"].apply(convert_string_data_to_values)\n",
        "\n",
        "eeg = eeg.loc[eeg[\"signal_quality\"] < QUALITY_THRESHOLD]\n",
        "eeg.head()"
      ]
    },
    {
      "cell_type": "markdown",
      "metadata": {
        "id": "Kp6sZjgiAgoa"
      },
      "source": [
        "## Visualize one random sample from the data"
      ]
    },
    {
      "cell_type": "markdown",
      "metadata": {
        "id": "LZwq19WoAgob"
      },
      "source": [
        "We visualize one sample from the data to understand how the stimulus-induced signal looks\n",
        "like"
      ]
    },
    {
      "cell_type": "code",
      "execution_count": null,
      "metadata": {
        "id": "A3b7tbE0Agob"
      },
      "outputs": [],
      "source": [
        "\n",
        "def view_eeg_plot(idx):\n",
        "    data = eeg.loc[idx, \"raw_values\"]\n",
        "    plt.plot(data)\n",
        "    plt.title(f\"Sample random plot\")\n",
        "    plt.show()\n",
        "\n",
        "\n",
        "view_eeg_plot(7)"
      ]
    },
    {
      "cell_type": "markdown",
      "metadata": {
        "id": "ub77hPeiAgob"
      },
      "source": [
        "## Pre-process and collate data"
      ]
    },
    {
      "cell_type": "markdown",
      "metadata": {
        "id": "l9AHQhA8Agob"
      },
      "source": [
        "There are a total of 67 different labels present in the data, where there are numbered\n",
        "sub-labels. We collate them under a single label as per their numbering and replace them\n",
        "in the data itself. Following this process, we perform simple Label encoding to get them\n",
        "in an integer format."
      ]
    },
    {
      "cell_type": "code",
      "execution_count": null,
      "metadata": {
        "id": "iZ9maowcAgob"
      },
      "outputs": [],
      "source": [
        "print(\"Before replacing labels\")\n",
        "print(eeg[\"label\"].unique(), \"\\n\")\n",
        "print(len(eeg[\"label\"].unique()), \"\\n\")\n",
        "\n",
        "\n",
        "eeg.replace(\n",
        "    {\n",
        "        \"label\": {\n",
        "            \"blink1\": \"blink\",\n",
        "            \"blink2\": \"blink\",\n",
        "            \"blink3\": \"blink\",\n",
        "            \"blink4\": \"blink\",\n",
        "            \"blink5\": \"blink\",\n",
        "            \"math1\": \"math\",\n",
        "            \"math2\": \"math\",\n",
        "            \"math3\": \"math\",\n",
        "            \"math4\": \"math\",\n",
        "            \"math5\": \"math\",\n",
        "            \"math6\": \"math\",\n",
        "            \"math7\": \"math\",\n",
        "            \"math8\": \"math\",\n",
        "            \"math9\": \"math\",\n",
        "            \"math10\": \"math\",\n",
        "            \"math11\": \"math\",\n",
        "            \"math12\": \"math\",\n",
        "            \"thinkOfItems-ver1\": \"thinkOfItems\",\n",
        "            \"thinkOfItems-ver2\": \"thinkOfItems\",\n",
        "            \"video-ver1\": \"video\",\n",
        "            \"video-ver2\": \"video\",\n",
        "            \"thinkOfItemsInstruction-ver1\": \"thinkOfItemsInstruction\",\n",
        "            \"thinkOfItemsInstruction-ver2\": \"thinkOfItemsInstruction\",\n",
        "            \"colorRound1-1\": \"colorRound1\",\n",
        "            \"colorRound1-2\": \"colorRound1\",\n",
        "            \"colorRound1-3\": \"colorRound1\",\n",
        "            \"colorRound1-4\": \"colorRound1\",\n",
        "            \"colorRound1-5\": \"colorRound1\",\n",
        "            \"colorRound1-6\": \"colorRound1\",\n",
        "            \"colorRound2-1\": \"colorRound2\",\n",
        "            \"colorRound2-2\": \"colorRound2\",\n",
        "            \"colorRound2-3\": \"colorRound2\",\n",
        "            \"colorRound2-4\": \"colorRound2\",\n",
        "            \"colorRound2-5\": \"colorRound2\",\n",
        "            \"colorRound2-6\": \"colorRound2\",\n",
        "            \"colorRound3-1\": \"colorRound3\",\n",
        "            \"colorRound3-2\": \"colorRound3\",\n",
        "            \"colorRound3-3\": \"colorRound3\",\n",
        "            \"colorRound3-4\": \"colorRound3\",\n",
        "            \"colorRound3-5\": \"colorRound3\",\n",
        "            \"colorRound3-6\": \"colorRound3\",\n",
        "            \"colorRound4-1\": \"colorRound4\",\n",
        "            \"colorRound4-2\": \"colorRound4\",\n",
        "            \"colorRound4-3\": \"colorRound4\",\n",
        "            \"colorRound4-4\": \"colorRound4\",\n",
        "            \"colorRound4-5\": \"colorRound4\",\n",
        "            \"colorRound4-6\": \"colorRound4\",\n",
        "            \"colorRound5-1\": \"colorRound5\",\n",
        "            \"colorRound5-2\": \"colorRound5\",\n",
        "            \"colorRound5-3\": \"colorRound5\",\n",
        "            \"colorRound5-4\": \"colorRound5\",\n",
        "            \"colorRound5-5\": \"colorRound5\",\n",
        "            \"colorRound5-6\": \"colorRound5\",\n",
        "            \"colorInstruction1\": \"colorInstruction\",\n",
        "            \"colorInstruction2\": \"colorInstruction\",\n",
        "            \"readyRound1\": \"readyRound\",\n",
        "            \"readyRound2\": \"readyRound\",\n",
        "            \"readyRound3\": \"readyRound\",\n",
        "            \"readyRound4\": \"readyRound\",\n",
        "            \"readyRound5\": \"readyRound\",\n",
        "            \"colorRound1\": \"colorRound\",\n",
        "            \"colorRound2\": \"colorRound\",\n",
        "            \"colorRound3\": \"colorRound\",\n",
        "            \"colorRound4\": \"colorRound\",\n",
        "            \"colorRound5\": \"colorRound\",\n",
        "        }\n",
        "    },\n",
        "    inplace=True,\n",
        ")\n",
        "\n",
        "print(\"After replacing labels\")\n",
        "print(eeg[\"label\"].unique())\n",
        "print(len(eeg[\"label\"].unique()))\n",
        "\n",
        "le = preprocessing.LabelEncoder()  # Generates a look-up table\n",
        "le.fit(eeg[\"label\"])\n",
        "eeg[\"label\"] = le.transform(eeg[\"label\"])"
      ]
    },
    {
      "cell_type": "markdown",
      "metadata": {
        "id": "q9XH2y23Agoc"
      },
      "source": [
        "We extract the number of unique classes present in the data"
      ]
    },
    {
      "cell_type": "code",
      "execution_count": null,
      "metadata": {
        "id": "ZZVhtwXvAgoc"
      },
      "outputs": [],
      "source": [
        "num_classes = len(eeg[\"label\"].unique())\n",
        "print(num_classes)"
      ]
    },
    {
      "cell_type": "markdown",
      "metadata": {
        "id": "Q4rKFFD5Agod"
      },
      "source": [
        "We now visualize the number of samples present in each class using a Bar plot."
      ]
    },
    {
      "cell_type": "code",
      "execution_count": null,
      "metadata": {
        "id": "RX9c-gzFAgod"
      },
      "outputs": [],
      "source": [
        "plt.bar(range(num_classes), eeg[\"label\"].value_counts())\n",
        "plt.title(\"Number of samples per class\")\n",
        "plt.show()"
      ]
    },
    {
      "cell_type": "markdown",
      "metadata": {
        "id": "Y-kkgLTVAgod"
      },
      "source": [
        "## Scale and split data"
      ]
    },
    {
      "cell_type": "markdown",
      "metadata": {
        "id": "tUjuQgmyAgod"
      },
      "source": [
        "We perform a simple Min-Max scaling to bring the value-range between 0 and 1. We do not\n",
        "use Standard Scaling as the data does not follow a Gaussian distribution."
      ]
    },
    {
      "cell_type": "code",
      "execution_count": null,
      "metadata": {
        "id": "x_IcprL0Agod"
      },
      "outputs": [],
      "source": [
        "scaler = preprocessing.MinMaxScaler()\n",
        "series_list = [\n",
        "    scaler.fit_transform(np.asarray(i).reshape(-1, 1)) for i in eeg[\"raw_values\"]\n",
        "]\n",
        "\n",
        "labels_list = [i for i in eeg[\"label\"]]"
      ]
    },
    {
      "cell_type": "markdown",
      "metadata": {
        "id": "wEex1EcyAgoe"
      },
      "source": [
        "We now create a Train-test split with a 15% holdout set. Following this, we reshape the\n",
        "data to create a sequence of length 512. We also convert the labels from their current\n",
        "label-encoded form to a one-hot encoding to enable use of several different\n",
        "`keras.metrics` functions."
      ]
    },
    {
      "cell_type": "code",
      "execution_count": null,
      "metadata": {
        "id": "b2wI6enzAgoe"
      },
      "outputs": [],
      "source": [
        "x_train, x_test, y_train, y_test = model_selection.train_test_split(\n",
        "    series_list, labels_list, test_size=0.15, random_state=42, shuffle=True\n",
        ")\n",
        "\n",
        "print(\n",
        "    f\"Length of x_train : {len(x_train)}\\nLength of x_test : {len(x_test)}\\nLength of y_train : {len(y_train)}\\nLength of y_test : {len(y_test)}\"\n",
        ")\n",
        "\n",
        "x_train = np.asarray(x_train).astype(np.float32).reshape(-1, 512, 1)\n",
        "y_train = np.asarray(y_train).astype(np.float32).reshape(-1, 1)\n",
        "y_train = keras.utils.to_categorical(y_train)\n",
        "\n",
        "x_test = np.asarray(x_test).astype(np.float32).reshape(-1, 512, 1)\n",
        "y_test = np.asarray(y_test).astype(np.float32).reshape(-1, 1)\n",
        "y_test = keras.utils.to_categorical(y_test)"
      ]
    },
    {
      "cell_type": "markdown",
      "metadata": {
        "id": "U8ZyhyCEAgoe"
      },
      "source": [
        "## Prepare `tf.data.Dataset`"
      ]
    },
    {
      "cell_type": "markdown",
      "metadata": {
        "id": "lePlfQjbAgof"
      },
      "source": [
        "We now create a `tf.data.Dataset` from this data to prepare it for training. We also\n",
        "shuffle and batch the data for use later."
      ]
    },
    {
      "cell_type": "code",
      "execution_count": null,
      "metadata": {
        "id": "ljjQA4n3Agof"
      },
      "outputs": [],
      "source": [
        "train_dataset = tf.data.Dataset.from_tensor_slices((x_train, y_train))\n",
        "test_dataset = tf.data.Dataset.from_tensor_slices((x_test, y_test))\n",
        "\n",
        "train_dataset = train_dataset.shuffle(SHUFFLE_BUFFER_SIZE).batch(BATCH_SIZE)\n",
        "test_dataset = test_dataset.batch(BATCH_SIZE)"
      ]
    },
    {
      "cell_type": "markdown",
      "metadata": {
        "id": "sSGj5XgfAgof"
      },
      "source": [
        "## Make Class Weights using Naive method"
      ]
    },
    {
      "cell_type": "markdown",
      "metadata": {
        "id": "2AnLFZVSAgof"
      },
      "source": [
        "As we can see from the plot of number of samples per class, the dataset is imbalanced.\n",
        "Hence, we **calculate weights for each class** to make sure that the model is trained in\n",
        "a fair manner without preference to any specific class due to greater number of samples.\n",
        "\n",
        "We use a naive method to calculate these weights, finding an **inverse proportion** of\n",
        "each class and using that as the weight."
      ]
    },
    {
      "cell_type": "code",
      "execution_count": null,
      "metadata": {
        "id": "pQqtKPOxAgog"
      },
      "outputs": [],
      "source": [
        "vals_dict = {}\n",
        "for i in eeg[\"label\"]:\n",
        "    if i in vals_dict.keys():\n",
        "        vals_dict[i] += 1\n",
        "    else:\n",
        "        vals_dict[i] = 1\n",
        "total = sum(vals_dict.values())\n",
        "\n",
        "# Formula used - Naive method where\n",
        "# weight = 1 - (no. of samples present / total no. of samples)\n",
        "# So more the samples, lower the weight\n",
        "\n",
        "weight_dict = {k: (1 - (v / total)) for k, v in vals_dict.items()}\n",
        "print(weight_dict)"
      ]
    },
    {
      "cell_type": "markdown",
      "metadata": {
        "id": "2q374US4Agog"
      },
      "source": [
        "## Define simple function to plot all the metrics present in a `keras.callbacks.History`\n",
        "object"
      ]
    },
    {
      "cell_type": "code",
      "execution_count": null,
      "metadata": {
        "id": "AY9NfAdoAgog"
      },
      "outputs": [],
      "source": [
        "\n",
        "def plot_history_metrics(history: keras.callbacks.History):\n",
        "    total_plots = len(history.history)\n",
        "    cols = total_plots // 2\n",
        "\n",
        "    rows = total_plots // cols\n",
        "\n",
        "    if total_plots % cols != 0:\n",
        "        rows += 1\n",
        "\n",
        "    pos = range(1, total_plots + 1)\n",
        "    plt.figure(figsize=(15, 10))\n",
        "    for i, (key, value) in enumerate(history.history.items()):\n",
        "        plt.subplot(rows, cols, pos[i])\n",
        "        plt.plot(range(len(value)), value)\n",
        "        plt.title(str(key))\n",
        "    plt.show()\n"
      ]
    },
    {
      "cell_type": "markdown",
      "metadata": {
        "id": "ftbbJtHvAgoh"
      },
      "source": [
        "## Define function to generate Convolutional model"
      ]
    },
    {
      "cell_type": "code",
      "execution_count": null,
      "metadata": {
        "id": "I7_PR1-FAgoh"
      },
      "outputs": [],
      "source": [
        "\n",
        "def create_model():\n",
        "    input_layer = keras.Input(shape=(512, 1))\n",
        "\n",
        "    x = layers.Conv1D(\n",
        "        filters=32, kernel_size=3, strides=2, activation=\"relu\", padding=\"same\"\n",
        "    )(input_layer)\n",
        "    x = layers.BatchNormalization()(x)\n",
        "\n",
        "    x = layers.Conv1D(\n",
        "        filters=64, kernel_size=3, strides=2, activation=\"relu\", padding=\"same\"\n",
        "    )(x)\n",
        "    x = layers.BatchNormalization()(x)\n",
        "\n",
        "    x = layers.Conv1D(\n",
        "        filters=128, kernel_size=5, strides=2, activation=\"relu\", padding=\"same\"\n",
        "    )(x)\n",
        "    x = layers.BatchNormalization()(x)\n",
        "\n",
        "    x = layers.Conv1D(\n",
        "        filters=256, kernel_size=5, strides=2, activation=\"relu\", padding=\"same\"\n",
        "    )(x)\n",
        "    x = layers.BatchNormalization()(x)\n",
        "\n",
        "    x = layers.Conv1D(\n",
        "        filters=512, kernel_size=7, strides=2, activation=\"relu\", padding=\"same\"\n",
        "    )(x)\n",
        "    x = layers.BatchNormalization()(x)\n",
        "\n",
        "    x = layers.Conv1D(\n",
        "        filters=1024,\n",
        "        kernel_size=7,\n",
        "        strides=2,\n",
        "        activation=\"relu\",\n",
        "        padding=\"same\",\n",
        "    )(x)\n",
        "    x = layers.BatchNormalization()(x)\n",
        "\n",
        "    x = layers.Dropout(0.2)(x)\n",
        "\n",
        "    x = layers.Flatten()(x)\n",
        "\n",
        "    x = layers.Dense(4096, activation=\"relu\")(x)\n",
        "    x = layers.Dropout(0.2)(x)\n",
        "\n",
        "    x = layers.Dense(\n",
        "        2048, activation=\"relu\", kernel_regularizer=keras.regularizers.L2()\n",
        "    )(x)\n",
        "    x = layers.Dropout(0.2)(x)\n",
        "\n",
        "    x = layers.Dense(\n",
        "        1024, activation=\"relu\", kernel_regularizer=keras.regularizers.L2()\n",
        "    )(x)\n",
        "    x = layers.Dropout(0.2)(x)\n",
        "    x = layers.Dense(\n",
        "        128, activation=\"relu\", kernel_regularizer=keras.regularizers.L2()\n",
        "    )(x)\n",
        "    output_layer = layers.Dense(num_classes, activation=\"softmax\")(x)\n",
        "\n",
        "    return keras.Model(inputs=input_layer, outputs=output_layer)\n"
      ]
    },
    {
      "cell_type": "markdown",
      "metadata": {
        "id": "OpjIRUOxAgoh"
      },
      "source": [
        "## Get Model summary"
      ]
    },
    {
      "cell_type": "code",
      "execution_count": null,
      "metadata": {
        "id": "vOrK1cA7Agon"
      },
      "outputs": [],
      "source": [
        "conv_model = create_model()\n",
        "conv_model.summary()"
      ]
    },
    {
      "cell_type": "markdown",
      "metadata": {
        "id": "88WhiroqAgon"
      },
      "source": [
        "## Define callbacks, optimizer, loss and metrics"
      ]
    },
    {
      "cell_type": "markdown",
      "metadata": {
        "id": "qGGFFFmCAgoo"
      },
      "source": [
        "We set the number of epochs at 30 after performing extensive experimentation. It was seen\n",
        "that this was the optimal number, after performing Early-Stopping analysis as well.\n",
        "We define a Model Checkpoint callback to make sure that we only get the best model\n",
        "weights.\n",
        "We also define a ReduceLROnPlateau as there were several cases found during\n",
        "experimentation where the loss stagnated after a certain point. On the other hand, a\n",
        "direct LRScheduler was found to be too aggressive in its decay."
      ]
    },
    {
      "cell_type": "code",
      "execution_count": null,
      "metadata": {
        "id": "RXRjm4f7Agoo"
      },
      "outputs": [],
      "source": [
        "epochs = 30\n",
        "\n",
        "callbacks = [\n",
        "    keras.callbacks.ModelCheckpoint(\n",
        "        \"best_model.keras\", save_best_only=True, monitor=\"loss\"\n",
        "    ),\n",
        "    keras.callbacks.ReduceLROnPlateau(\n",
        "        monitor=\"val_top_k_categorical_accuracy\",\n",
        "        factor=0.2,\n",
        "        patience=2,\n",
        "        min_lr=0.000001,\n",
        "    ),\n",
        "]\n",
        "\n",
        "optimizer = keras.optimizers.Adam(amsgrad=True, learning_rate=0.001)\n",
        "loss = keras.losses.CategoricalCrossentropy()"
      ]
    },
    {
      "cell_type": "markdown",
      "metadata": {
        "id": "3MgMQ7QeAgoo"
      },
      "source": [
        "## Compile model and call `model.fit()`"
      ]
    },
    {
      "cell_type": "markdown",
      "metadata": {
        "id": "L3xmWbmkAgoo"
      },
      "source": [
        "We use the `Adam` optimizer since it is commonly considered the best choice for\n",
        "preliminary training, and was found to be the best optimizer.\n",
        "We use `CategoricalCrossentropy` as the loss as our labels are in a one-hot-encoded form.\n",
        "\n",
        "We define the `TopKCategoricalAccuracy(k=3)`, `AUC`, `Precision` and `Recall` metrics to\n",
        "further aid in understanding the model better."
      ]
    },
    {
      "cell_type": "code",
      "execution_count": null,
      "metadata": {
        "id": "qoeIIVqcAgop"
      },
      "outputs": [],
      "source": [
        "conv_model.compile(\n",
        "    optimizer=optimizer,\n",
        "    loss=loss,\n",
        "    metrics=[\n",
        "        keras.metrics.TopKCategoricalAccuracy(k=3),\n",
        "        keras.metrics.AUC(),\n",
        "        keras.metrics.Precision(),\n",
        "        keras.metrics.Recall(),\n",
        "    ],\n",
        ")\n",
        "\n",
        "conv_model_history = conv_model.fit(\n",
        "    train_dataset,\n",
        "    epochs=epochs,\n",
        "    callbacks=callbacks,\n",
        "    validation_data=test_dataset,\n",
        "    class_weight=weight_dict,\n",
        ")"
      ]
    },
    {
      "cell_type": "markdown",
      "metadata": {
        "id": "R8Nt5crAAgop"
      },
      "source": [
        "## Visualize model metrics during training"
      ]
    },
    {
      "cell_type": "markdown",
      "metadata": {
        "id": "xyaCtpOpAgop"
      },
      "source": [
        "We use the function defined above to see model metrics during training."
      ]
    },
    {
      "cell_type": "code",
      "execution_count": null,
      "metadata": {
        "id": "8KGRsN_MAgop"
      },
      "outputs": [],
      "source": [
        "plot_history_metrics(conv_model_history)"
      ]
    },
    {
      "cell_type": "markdown",
      "metadata": {
        "id": "deCtrAxNAgop"
      },
      "source": [
        "## Evaluate model on test data"
      ]
    },
    {
      "cell_type": "code",
      "execution_count": null,
      "metadata": {
        "id": "Wcv6DXNRAgoq"
      },
      "outputs": [],
      "source": [
        "loss, accuracy, auc, precision, recall = conv_model.evaluate(test_dataset)\n",
        "print(f\"Loss : {loss}\")\n",
        "print(f\"Top 3 Categorical Accuracy : {accuracy}\")\n",
        "print(f\"Area under the Curve (ROC) : {auc}\")\n",
        "print(f\"Precision : {precision}\")\n",
        "print(f\"Recall : {recall}\")\n",
        "\n",
        "\n",
        "def view_evaluated_eeg_plots(model):\n",
        "    start_index = random.randint(10, len(eeg))\n",
        "    end_index = start_index + 11\n",
        "    data = eeg.loc[start_index:end_index, \"raw_values\"]\n",
        "    data_array = [scaler.fit_transform(np.asarray(i).reshape(-1, 1)) for i in data]\n",
        "    data_array = [np.asarray(data_array).astype(np.float32).reshape(-1, 512, 1)]\n",
        "    original_labels = eeg.loc[start_index:end_index, \"label\"]\n",
        "    predicted_labels = np.argmax(model.predict(data_array, verbose=0), axis=1)\n",
        "    original_labels = [\n",
        "        le.inverse_transform(np.array(label).reshape(-1))[0]\n",
        "        for label in original_labels\n",
        "    ]\n",
        "    predicted_labels = [\n",
        "        le.inverse_transform(np.array(label).reshape(-1))[0]\n",
        "        for label in predicted_labels\n",
        "    ]\n",
        "    total_plots = 12\n",
        "    cols = total_plots // 3\n",
        "    rows = total_plots // cols\n",
        "    if total_plots % cols != 0:\n",
        "        rows += 1\n",
        "    pos = range(1, total_plots + 1)\n",
        "    fig = plt.figure(figsize=(20, 10))\n",
        "    for i, (plot_data, og_label, pred_label) in enumerate(\n",
        "        zip(data, original_labels, predicted_labels)\n",
        "    ):\n",
        "        plt.subplot(rows, cols, pos[i])\n",
        "        plt.plot(plot_data)\n",
        "        plt.title(f\"Actual Label : {og_label}\\nPredicted Label : {pred_label}\")\n",
        "        fig.subplots_adjust(hspace=0.5)\n",
        "    plt.show()\n",
        "\n",
        "\n",
        "view_evaluated_eeg_plots(conv_model)"
      ]
    }
  ],
  "metadata": {
    "accelerator": "GPU",
    "colab": {
      "name": "eeg_signal_classification",
      "provenance": [],
      "toc_visible": true,
      "include_colab_link": true
    },
    "kernelspec": {
      "display_name": "Python 3",
      "language": "python",
      "name": "python3"
    },
    "language_info": {
      "codemirror_mode": {
        "name": "ipython",
        "version": 3
      },
      "file_extension": ".py",
      "mimetype": "text/x-python",
      "name": "python",
      "nbconvert_exporter": "python",
      "pygments_lexer": "ipython3",
      "version": "3.7.0"
    }
  },
  "nbformat": 4,
  "nbformat_minor": 0
}